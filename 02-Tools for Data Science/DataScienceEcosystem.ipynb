{
 "cells": [
  {
   "cell_type": "markdown",
   "id": "7dab44d0-bbb3-4c25-b752-f84d4f37731d",
   "metadata": {},
   "source": [
    "# Introduction"
   ]
  },
  {
   "cell_type": "markdown",
   "id": "13b1fc09-83bd-4f3f-967e-db096a5e3a9d",
   "metadata": {},
   "source": [
    "In this notebook, Data Science Tools and Ecosystem are summarized.\n",
    "\n"
   ]
  },
  {
   "cell_type": "markdown",
   "id": "bcc6fe6f-351a-40ca-ae56-01f6271ded14",
   "metadata": {},
   "source": [
    "# Data Science Languages"
   ]
  },
  {
   "cell_type": "markdown",
   "id": "cb3ad857-c8dd-4605-92d9-cd9de0f20d7b",
   "metadata": {},
   "source": [
    "Some of the popular languages that Data Scientists use are:"
   ]
  },
  {
   "cell_type": "markdown",
   "id": "fc7675e4-12e9-4ffc-872d-cda3d253a0bd",
   "metadata": {},
   "source": [
    "1. Python\n",
    "2. SQL\n",
    "3. R"
   ]
  },
  {
   "cell_type": "markdown",
   "id": "6c94951a-6e9d-4acf-a0f5-a8708ae12435",
   "metadata": {},
   "source": [
    "# Data Science Libraries\n",
    "\n",
    "Some of the commonly used libraries used by Data Scientists include:\n",
    "\n",
    "1. Pandas\n",
    "2. Numpy\n",
    "3. Seaborn\n",
    "4. Matplolib\n"
   ]
  },
  {
   "cell_type": "markdown",
   "id": "cc2e3882-69f6-4ac7-91af-eca4dcc54f55",
   "metadata": {},
   "source": [
    "# Data Science Tools\n",
    "|Data Science Tools|\n",
    "|------------------|\n",
    "|Jupyter Notebook|\n",
    "|R Studio|\n",
    "|Spyder|"
   ]
  },
  {
   "cell_type": "markdown",
   "id": "bf4dbc49-442a-48f0-afc6-667d4af555c1",
   "metadata": {},
   "source": [
    "# Artithmetic Examples\n",
    "Below are a few examples of evaluating arithmetic expressions in Python"
   ]
  },
  {
   "cell_type": "code",
   "execution_count": 18,
   "id": "3f41bc2c-d62e-403c-8d0c-44220b1748dc",
   "metadata": {},
   "outputs": [
    {
     "data": {
      "text/plain": [
       "51"
      ]
     },
     "execution_count": 18,
     "metadata": {},
     "output_type": "execute_result"
    }
   ],
   "source": [
    "(6*9)-3"
   ]
  },
  {
   "cell_type": "markdown",
   "id": "5fc80ee0-3288-4a2e-a8c0-c2c3b73c5591",
   "metadata": {},
   "source": [
    "# Converting Minutes to Hours"
   ]
  },
  {
   "cell_type": "code",
   "execution_count": 33,
   "id": "703fdfed-7c3b-446d-97e2-06ed541c687e",
   "metadata": {},
   "outputs": [
    {
     "data": {
      "text/plain": [
       "33.333333333333336"
      ]
     },
     "execution_count": 33,
     "metadata": {},
     "output_type": "execute_result"
    }
   ],
   "source": [
    "mins=2000\n",
    "hours= mins/60\n",
    "hours"
   ]
  },
  {
   "cell_type": "markdown",
   "id": "34c84729-65dc-46c0-ae64-305dbbaec68d",
   "metadata": {},
   "source": [
    "# **Objectives:**"
   ]
  },
  {
   "cell_type": "markdown",
   "id": "da86d4b2-0cab-49ca-8f49-e626ec681c24",
   "metadata": {},
   "source": [
    "- Create markdown cells\n",
    "* Add ordered and unordered lists to markdown cells\n",
    "+ Format content using heading styles"
   ]
  },
  {
   "cell_type": "markdown",
   "id": "1420741c-6152-4189-b1af-e92096b87f4a",
   "metadata": {},
   "source": [
    "## Author"
   ]
  },
  {
   "cell_type": "markdown",
   "id": "3d199066-85dd-43a4-b965-52434195981a",
   "metadata": {},
   "source": [
    "Mukesh K"
   ]
  }
 ],
 "metadata": {
  "kernelspec": {
   "display_name": "Python [conda env:base] *",
   "language": "python",
   "name": "conda-base-py"
  },
  "language_info": {
   "codemirror_mode": {
    "name": "ipython",
    "version": 3
   },
   "file_extension": ".py",
   "mimetype": "text/x-python",
   "name": "python",
   "nbconvert_exporter": "python",
   "pygments_lexer": "ipython3",
   "version": "3.12.7"
  }
 },
 "nbformat": 4,
 "nbformat_minor": 5
}
